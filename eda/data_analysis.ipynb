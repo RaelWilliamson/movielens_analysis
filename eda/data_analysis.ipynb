{
 "cells": [
  {
   "cell_type": "markdown",
   "metadata": {},
   "source": [
    "# Intro\n",
    "\n",
    "This notebook is used to do a preliminary EDA (exploratory data analysis) in order to determine features of the data. These features include aspects such as the schema, field types and data quality"
   ]
  },
  {
   "cell_type": "code",
   "execution_count": 25,
   "metadata": {},
   "outputs": [],
   "source": [
    "# import modules\n",
    "import pandas as pd \n",
    "import matplotlib.pyplot as plt\n",
    "from scipy import stats"
   ]
  },
  {
   "cell_type": "code",
   "execution_count": 31,
   "metadata": {},
   "outputs": [
    {
     "name": "stderr",
     "output_type": "stream",
     "text": [
      "/tmp/ipykernel_17877/1100171681.py:3: ParserWarning: Falling back to the 'python' engine because the 'c' engine does not support regex separators (separators > 1 char and different from '\\s+' are interpreted as regex); you can avoid this warning by specifying engine='python'.\n",
      "  ratings_df = pd.read_csv(\"/home/raelwilliamson/personal/movielens_analysis/eda/data/ratings.dat\", sep=\"::\")\n"
     ]
    },
    {
     "name": "stdout",
     "output_type": "stream",
     "text": [
      "   1  1193  5  978300760\n",
      "0  1   661  3  978302109\n",
      "1  1   914  3  978301968\n",
      "2  1  3408  4  978300275\n",
      "3  1  2355  5  978824291\n",
      "4  1  1197  3  978302268\n",
      "5  1  1287  5  978302039\n",
      "6  1  2804  5  978300719\n",
      "7  1   594  4  978302268\n",
      "8  1   919  4  978301368\n",
      "9  1   595  5  978824268\n",
      "    1                    Toy Story (1995)   Animation|Children's|Comedy\n",
      "0   2                      Jumanji (1995)  Adventure|Children's|Fantasy\n",
      "1   3             Grumpier Old Men (1995)                Comedy|Romance\n",
      "2   4            Waiting to Exhale (1995)                  Comedy|Drama\n",
      "3   5  Father of the Bride Part II (1995)                        Comedy\n",
      "4   6                         Heat (1995)         Action|Crime|Thriller\n",
      "5   7                      Sabrina (1995)                Comedy|Romance\n",
      "6   8                 Tom and Huck (1995)          Adventure|Children's\n",
      "7   9                 Sudden Death (1995)                        Action\n",
      "8  10                    GoldenEye (1995)     Action|Adventure|Thriller\n",
      "9  11      American President, The (1995)          Comedy|Drama|Romance\n"
     ]
    },
    {
     "name": "stderr",
     "output_type": "stream",
     "text": [
      "/tmp/ipykernel_17877/1100171681.py:4: ParserWarning: Falling back to the 'python' engine because the 'c' engine does not support regex separators (separators > 1 char and different from '\\s+' are interpreted as regex); you can avoid this warning by specifying engine='python'.\n",
      "  movies_df = pd.read_csv(\"/home/raelwilliamson/personal/movielens_analysis/eda/data/movies.dat\", sep=\"::\", encoding='latin1')\n"
     ]
    }
   ],
   "source": [
    "# Read in the data\n",
    "\n",
    "ratings_df = pd.read_csv(\"/home/raelwilliamson/personal/movielens_analysis/data/raw/ratings.dat\", sep=\"::\")\n",
    "movies_df = pd.read_csv(\"/home/raelwilliamson/personal/movielens_analysis/data/raw/movies.dat\", sep=\"::\", encoding='latin1')\n",
    "\n",
    "# Show head of files\n",
    "\n",
    "print(ratings_df.head(10))\n",
    "print(movies_df.head(10))\n"
   ]
  },
  {
   "cell_type": "markdown",
   "metadata": {},
   "source": [
    "### Preliminary notes\n",
    "\n",
    "We are able to load the data and see the fields and some sample data. Additionally, a read through of the dataset indicates the filed name (https://grouplens.org/datasets/movielens/). Thus, we know the schemas are: \n",
    "\n",
    "Rating: userId, movieId, rating, timestamp\n",
    "\n",
    "Movies: movieId, title, genres"
   ]
  },
  {
   "cell_type": "markdown",
   "metadata": {},
   "source": [
    "## Lets take a look at Ratings dataset:"
   ]
  },
  {
   "cell_type": "code",
   "execution_count": 22,
   "metadata": {},
   "outputs": [
    {
     "name": "stdout",
     "output_type": "stream",
     "text": [
      "   UserID  MovieID  Rating  Timestamp        Date\n",
      "0       1      661       3  978302109  2000-12-31\n",
      "1       1      914       3  978301968  2000-12-31\n",
      "2       1     3408       4  978300275  2000-12-31\n",
      "3       1     2355       5  978824291  2001-01-06\n",
      "4       1     1197       3  978302268  2000-12-31\n",
      "5       1     1287       5  978302039  2000-12-31\n",
      "6       1     2804       5  978300719  2000-12-31\n",
      "7       1      594       4  978302268  2000-12-31\n",
      "8       1      919       4  978301368  2000-12-31\n",
      "9       1      595       5  978824268  2001-01-06\n",
      "             UserID       MovieID        Rating     Timestamp\n",
      "count  1.000208e+06  1.000208e+06  1.000208e+06  1.000208e+06\n",
      "mean   3.024515e+03  1.865541e+03  3.581563e+00  9.722437e+08\n",
      "std    1.728411e+03  1.096041e+03  1.117102e+00  1.215256e+07\n",
      "min    1.000000e+00  1.000000e+00  1.000000e+00  9.567039e+08\n",
      "25%    1.506000e+03  1.030000e+03  3.000000e+00  9.653026e+08\n",
      "50%    3.070000e+03  1.835000e+03  4.000000e+00  9.730180e+08\n",
      "75%    4.476000e+03  2.770000e+03  4.000000e+00  9.752209e+08\n",
      "max    6.040000e+03  3.952000e+03  5.000000e+00  1.046455e+09\n"
     ]
    }
   ],
   "source": [
    "# Lets add some headers\n",
    "column_names = ['UserID', 'MovieID', 'Rating', 'Timestamp']\n",
    "# Assign column names to the DataFrame\n",
    "ratings_df.columns = column_names\n",
    "# Lets cleanup the timestamp from UTX \n",
    "ratings_df['Date'] = pd.to_datetime(ratings_df['Timestamp'], unit='s').dt.date\n",
    "print(ratings_df.head(10))\n",
    "# Lets take a look at the stats:\n",
    "summary_stats_ratings = ratings_df.describe()\n",
    "print(summary_stats_ratings)\n"
   ]
  },
  {
   "cell_type": "code",
   "execution_count": 14,
   "metadata": {},
   "outputs": [
    {
     "data": {
      "image/png": "[encoded data removed]",
      "text/plain": [
       "<Figure size 640x480 with 1 Axes>"
      ]
     },
     "metadata": {},
     "output_type": "display_data"
    }
   ],
   "source": [
    "# Lets look at some graphs of the ratings\n",
    "# Plot a histogram of ratings to visualize their distribution\n",
    "plt.hist(ratings_df['Rating'], bins=10, edgecolor='black')\n",
    "plt.xlabel('Rating')\n",
    "plt.ylabel('Frequency')\n",
    "plt.title('Distribution of Ratings')\n",
    "plt.show()"
   ]
  },
  {
   "cell_type": "code",
   "execution_count": 26,
   "metadata": {},
   "outputs": [
    {
     "name": "stdout",
     "output_type": "stream",
     "text": [
      "UserID       0\n",
      "MovieID      0\n",
      "Rating       0\n",
      "Timestamp    0\n",
      "Date         0\n",
      "dtype: int64\n",
      "Empty DataFrame\n",
      "Columns: [UserID, MovieID, Rating, Timestamp, Date]\n",
      "Index: []\n"
     ]
    }
   ],
   "source": [
    "# Lets take a look at the data quality\n",
    "\n",
    "# Check for missing values in the DataFrame\n",
    "print(ratings_df.isnull().sum())\n",
    "\n",
    "# Lets check for any outliers\n",
    "z_scores = stats.zscore(ratings_df[['Rating']])\n",
    "threshold = 3\n",
    "outliers = ratings_df[(z_scores > threshold).any(axis=1)]\n",
    "print(outliers)\n"
   ]
  },
  {
   "cell_type": "markdown",
   "metadata": {},
   "source": [
    "### The following characteristics of the Ratings dataset have been noted:\n",
    "\n",
    "- The timestamp is unix time and needs to be converted\n",
    "- There are no null values\n",
    "- There are no stastical outliers in Ratings\n",
    "- The data is skewed towards higher ratings\n",
    "\n",
    "Thus, for dating cleaning, only timestamp needs to be considered"
   ]
  },
  {
   "cell_type": "markdown",
   "metadata": {},
   "source": [
    "## Lets take a look at the movies dataset"
   ]
  },
  {
   "cell_type": "code",
   "execution_count": 30,
   "metadata": {},
   "outputs": [
    {
     "name": "stdout",
     "output_type": "stream",
     "text": [
      "   MovieID                               Title                         Genre\n",
      "0        2                      Jumanji (1995)  Adventure|Children's|Fantasy\n",
      "1        3             Grumpier Old Men (1995)                Comedy|Romance\n",
      "2        4            Waiting to Exhale (1995)                  Comedy|Drama\n",
      "3        5  Father of the Bride Part II (1995)                        Comedy\n",
      "4        6                         Heat (1995)         Action|Crime|Thriller\n",
      "5        7                      Sabrina (1995)                Comedy|Romance\n",
      "6        8                 Tom and Huck (1995)          Adventure|Children's\n",
      "7        9                 Sudden Death (1995)                        Action\n",
      "8       10                    GoldenEye (1995)     Action|Adventure|Thriller\n",
      "9       11      American President, The (1995)          Comedy|Drama|Romance\n",
      "MovieID    0\n",
      "Title      0\n",
      "Genre      0\n",
      "dtype: int64\n"
     ]
    }
   ],
   "source": [
    "# Lets add some headers\n",
    "column_names = ['MovieID', 'Title', 'Genre']\n",
    "# Assign column names to the DataFrame\n",
    "movies_df.columns = column_names\n",
    "print(movies_df.head(10))\n",
    "\n",
    "# Check for missing values in the DataFrame\n",
    "print(movies_df.isnull().sum())"
   ]
  },
  {
   "cell_type": "markdown",
   "metadata": {},
   "source": [
    "### The following characteristics of the Movies dataset have been noted:\n",
    "\n",
    "- The data can be considered reference data (dimesion)\n",
    "- There are no null values\n",
    "- Genre is a combination of categories and could be considered for further cleaning"
   ]
  },
  {
   "cell_type": "markdown",
   "metadata": {},
   "source": [
    "# Conclusions\n",
    "\n",
    "Both the ratings and movie dataset are of decent quality for data engineering, although given the data charactersitcs may need further engineering for data science workloads. \n",
    "\n",
    "Thus, only small changes will be made for each datasets. These being:\n",
    "\n",
    "- Add column headers\n",
    "- Clean timestamp"
   ]
  }
 ],
 "metadata": {
  "kernelspec": {
   "display_name": "movielens-analysis-VVn6UDgj-py3.9",
   "language": "python",
   "name": "python3"
  },
  "language_info": {
   "codemirror_mode": {
    "name": "ipython",
    "version": 3
   },
   "file_extension": ".py",
   "mimetype": "text/x-python",
   "name": "python",
   "nbconvert_exporter": "python",
   "pygments_lexer": "ipython3",
   "version": "3.9.17"
  }
 },
 "nbformat": 4,
 "nbformat_minor": 2
}
